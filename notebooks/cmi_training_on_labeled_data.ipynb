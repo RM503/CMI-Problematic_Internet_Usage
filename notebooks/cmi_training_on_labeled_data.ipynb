{
 "cells": [
  {
   "cell_type": "markdown",
   "metadata": {},
   "source": [
    "# CMI - predictions on labeled data with ensemble voting\n",
    "Here, I train only the subset of ```train.csv``` that contains the ```sii``` labels using boosted regressors (XGBoost, LightGBM and CatBoost). Even though the ```sii``` label is categorical, the ordinal nature of the label means that the class probability thresholds become important and the classification task can actually be approached using regression, with a rounding-off mechanism for making the final predictions. This notebook contains the following -\n",
    "1. **Time-series statistics extraction:** Simple statistics from the time-series parquet files are calculated, extracted and appended to the ```train.csv``` and ```test.csv``` files. The time-series statistics can be parallelized in many ways. Here, it is done using ```joblib```.\n",
    "2. **Cross-validation:** The data is trained and validated in a ```StratifiedKFold``` training and validation loop. I make sure to perform the required data preprocessing steps, imputation and scaling (if required), inside this loop to prevent *data leakage*. In this way, the data preprocessing pipeline can be ```fit_transform()```'d on the training set, while the validation and test sets are only ```transform()```'d. Inside the cross-validation loop, the different regressor models are fitted and the out-of-fold (OOF) predictions are calculated. Importantly, optimal thresholds for rounding-off these predictions to ordinal variables is performed.\n",
    "3. **Hyperparameter Optimization:** The hyperparameter optimization was performed using ```Optuna``` and they are only stated here."
   ]
  },
  {
   "cell_type": "code",
   "execution_count": 17,
   "metadata": {},
   "outputs": [],
   "source": [
    "import glob\n",
    "from joblib import Parallel, delayed\n",
    "from tqdm import tqdm\n",
    "import numpy as np\n",
    "import pandas as pd\n",
    "from scipy.optimize import minimize\n",
    "from sklearn.base import clone \n",
    "from sklearn.impute import SimpleImputer, KNNImputer\n",
    "from sklearn.compose import ColumnTransformer\n",
    "from sklearn.pipeline import Pipeline \n",
    "from sklearn.preprocessing import StandardScaler\n",
    "from sklearn.model_selection import StratifiedKFold\n",
    "from xgboost import XGBRegressor\n",
    "from lightgbm import LGBMRegressor\n",
    "from catboost import CatBoostRegressor\n",
    "from sklearn.ensemble import VotingRegressor\n",
    "from sklearn.metrics import cohen_kappa_score\n",
    "import optuna\n",
    "\n",
    "import warnings\n",
    "warnings.filterwarnings('ignore')\n",
    "\n",
    "import matplotlib.pyplot as plt\n",
    "%matplotlib inline\n",
    "import seaborn as sns\n",
    "\n",
    "plt.rc('text', usetex=True)\n",
    "plt.rc('font', family='serif')\n",
    "plt.rc('xtick',labelsize=12)\n",
    "plt.rc('ytick',labelsize=12)\n",
    "\n",
    "sns.set_theme()"
   ]
  },
  {
   "cell_type": "markdown",
   "metadata": {},
   "source": [
    "## Data extraction\n",
    "The training and test data consist of ```.csv``` files containing tabular data of over $3,000$ participants. Furthermore, the dataset also contains actigraphy data stored in ```.parquet``` files for a certain subset of participants in the form of tabular time-series."
   ]
  },
  {
   "cell_type": "code",
   "execution_count": 2,
   "metadata": {},
   "outputs": [],
   "source": [
    "folder_path = './../child-mind-institute-problematic-internet-use/'\n",
    "\n",
    "train_df = pd.read_csv(folder_path + 'train.csv', index_col='id')\n",
    "test_df = pd.read_csv(folder_path + 'test.csv', index_col='id')\n",
    "data_dict = pd.read_csv(folder_path + 'data_dictionary.csv')\n",
    "\n",
    "timeseries_train_files = glob.glob(folder_path + 'series_train.parquet/*')\n",
    "timeseries_test_files = glob.glob(folder_path + 'series_test.parquet/*')"
   ]
  },
  {
   "cell_type": "markdown",
   "metadata": {},
   "source": [
    "### Extracting time-series features and statistics\n",
    "The actigraphy data contains a wealth of information that can be extremely helpful at predicting problematic internet usage among children and adolescents. In particular, the time-series data contains the ```enmo``` feature, which is a generalized notion of the acceleration experienced by the user's hand. Statistics of such variables, especially during the weekends, can help strenghten the training dataset, allowing for more robust predictive modeling. The ```extract_timeseries_features()``` function has been adapted from Lennard Haupt's notebook in https://www.kaggle.com/code/lennarthaupts/cmi-detecting-problematic-digital-behavior. I plan on performing a different statistical analysis on the actigraphy data later."
   ]
  },
  {
   "cell_type": "code",
   "execution_count": 3,
   "metadata": {},
   "outputs": [],
   "source": [
    "def extract_timeseries_features(df):\n",
    "    ''' \n",
    "    Extracting time-series features from the actigraphy datasets.\n",
    "    Copied from Lennard Haupt's notebook in https://www.kaggle.com/code/lennarthaupts/cmi-detecting-problematic-digital-behavior\n",
    "    '''\n",
    "\n",
    "    # Converting time_of_day to hours; the time_of_day variable is expressed in nanoseconds\n",
    "    df[\"hours\"] = df[\"time_of_day\"] // (3_600 * 1_000_000_000)\n",
    "\n",
    "    # Define conditions for night, day, and no mask (full data); night is defined to be between hours 22 and 5\n",
    "    night = ((df[\"hours\"] >= 22) | (df[\"hours\"] <= 5))\n",
    "    day = ((df[\"hours\"] <= 20) & (df[\"hours\"] >= 7))\n",
    "    no_mask = np.ones(len(df), dtype=bool)\n",
    "    # Define weekend and last week conditions\n",
    "    weekend = (df[\"weekday\"] >= 6)\n",
    "    last_week = df[\"relative_date_PCIAT\"] >= (df[\"relative_date_PCIAT\"].max() - 7)\n",
    "    # Create additional weekend features\n",
    "    df[\"enmo_weekend\"] = df[\"enmo\"].where(weekend)\n",
    "    df[\"anglez_weekend\"] = df[\"anglez\"].where(weekend)\n",
    "    # Basic features \n",
    "    features = [\n",
    "        df[\"non-wear_flag\"].mean(),\n",
    "        df[\"battery_voltage\"].mean(),\n",
    "        df[\"battery_voltage\"].diff().mean(),\n",
    "        df[\"relative_date_PCIAT\"].tail(1).values[0]\n",
    "    ]\n",
    "    \n",
    "    # List of columns of interest and masks\n",
    "    keys = [\"enmo\", \"anglez\", \"light\", \"enmo_weekend\", \"anglez_weekend\"]\n",
    "    masks = [no_mask, night, day, last_week]\n",
    "    \n",
    "    # Helper function for feature extraction\n",
    "    def extract_stats(data):\n",
    "        return [\n",
    "            data.mean(), \n",
    "            data.std(), \n",
    "            data.max(), \n",
    "            data.min(), \n",
    "            data.kurtosis(), \n",
    "            data.skew(), \n",
    "            data.diff().mean(), \n",
    "            data.diff().std(), \n",
    "            data.diff().quantile(0.9), \n",
    "            data.diff().quantile(0.1)\n",
    "        ]\n",
    "    \n",
    "    # Iterate over keys and masks to generate the statistics\n",
    "    for key in keys:\n",
    "        for mask in masks:\n",
    "            filtered_data = df.loc[mask, key]\n",
    "            features.extend(extract_stats(filtered_data))\n",
    "\n",
    "    return features\n",
    "\n",
    "def process_file(filepath):\n",
    "    ''' \n",
    "    This function takes the filepath of a time-series parquet file and extracts the id number and the\n",
    "    statistics defined in extract_timeseries_features() function.\n",
    "    '''\n",
    "    df = pd.read_parquet(filepath)\n",
    "    df.drop('step', axis=1, inplace=True)\n",
    "\n",
    "    features = extract_timeseries_features(df)\n",
    "    id_num = filepath.split('=')[-1]\n",
    "\n",
    "    return features, id_num\n",
    "\n",
    "def extract_timeseries_id(filepath_array):\n",
    "    ''' \n",
    "    This function takes an array of filepaths and returns an array of id numbers.\n",
    "    '''\n",
    "    id_list = []\n",
    "    for n, folder in enumerate(filepath_array):\n",
    "        id = folder.split('=')[-1]\n",
    "        id_list.append(id)\n",
    "\n",
    "    return id_list \n",
    "\n",
    "def timeseries_features_df(filepath_array, n_jobs=8):\n",
    "    ''' \n",
    "    This function takes as input a filepath array and returns a dataframe with all the time-series statistics for each parquet file.\n",
    "    The extraction process is sped up using Python's joblib library, with n_jobs being an optional argument.\n",
    "    '''\n",
    "    print('Extracting features from time-series files.')\n",
    "    results = Parallel(n_jobs=n_jobs)(delayed(process_file)(f) for f in tqdm(filepath_array))\n",
    "\n",
    "    stats, indices = zip(*results)\n",
    "    df = pd.DataFrame(stats, columns=[f'stat_{i}' for i in range(len(stats[0]))])\n",
    "    df['id'] = indices\n",
    "\n",
    "    return df"
   ]
  },
  {
   "cell_type": "markdown",
   "metadata": {},
   "source": [
    "The time-series statistics from the train and test parquet files are extracted into ```train_timeseries``` and ```test_timeseries``` dataframes. These are then merged with the data from the csv files."
   ]
  },
  {
   "cell_type": "code",
   "execution_count": 4,
   "metadata": {},
   "outputs": [
    {
     "name": "stdout",
     "output_type": "stream",
     "text": [
      "Extracting features from time-series files.\n"
     ]
    },
    {
     "name": "stderr",
     "output_type": "stream",
     "text": [
      "  0%|          | 0/996 [00:00<?, ?it/s]"
     ]
    },
    {
     "name": "stderr",
     "output_type": "stream",
     "text": [
      "100%|██████████| 996/996 [00:38<00:00, 26.05it/s]\n"
     ]
    },
    {
     "name": "stdout",
     "output_type": "stream",
     "text": [
      "Extracting features from time-series files.\n"
     ]
    },
    {
     "name": "stderr",
     "output_type": "stream",
     "text": [
      "100%|██████████| 2/2 [00:00<00:00, 1423.49it/s]\n"
     ]
    }
   ],
   "source": [
    "train_timeseries = timeseries_features_df(timeseries_train_files)\n",
    "test_timeseries = timeseries_features_df(timeseries_test_files)"
   ]
  },
  {
   "cell_type": "code",
   "execution_count": 5,
   "metadata": {},
   "outputs": [],
   "source": [
    "timeseries_cols = train_timeseries.columns.tolist()\n",
    "timeseries_cols.remove('id')\n",
    "\n",
    "train_df = pd.merge(train_df, train_timeseries, how='left', on='id')\n",
    "test_df = pd.merge(test_df, test_timeseries, how='left', on='id')\n",
    "\n",
    "train_df.set_index('id', inplace=True)\n",
    "test_df.set_index('id', inplace=True)"
   ]
  },
  {
   "cell_type": "markdown",
   "metadata": {},
   "source": [
    "## Initial preprocessing\n",
    "The different ```PCIAT``` columns are first removed from the training dataset. Then, I consider the subset of the data that has ```sii``` values associated with them. The numerical and categorical columns are then separated out. Here, the categorical columns are those features which are labeled as ```categorical int``` in ```data_dictionary.csv```. I will also remove any feature category that has 'Enrolment Season' or 'Season' in its descriptor."
   ]
  },
  {
   "cell_type": "code",
   "execution_count": 6,
   "metadata": {},
   "outputs": [],
   "source": [
    "train_cols = train_df.columns.tolist()\n",
    "test_cols = test_df.columns.tolist()\n",
    "\n",
    "drop_cols = list( set(train_cols) - set(test_cols) )\n",
    "drop_cols.remove('sii')\n",
    "\n",
    "train_df_subset = train_df[train_df.loc[:, 'sii'].notna()]\n",
    "train_df_subset.drop(columns=drop_cols, inplace=True)\n",
    "\n",
    "X_train = train_df_subset.loc[:, train_df_subset.columns != 'sii']\n",
    "y = train_df_subset['sii'].astype('Int64')\n",
    "X_test = test_df \n",
    "\n",
    "numerical_cols = data_dict[ (data_dict['Type']=='float') | (data_dict['Type']=='int') ]['Field'].tolist()\n",
    "numerical_cols.remove('PCIAT-PCIAT_Total')\n",
    "numerical_cols = numerical_cols + timeseries_cols\n",
    "\n",
    "categorical_cols = data_dict[ data_dict['Type']=='categorical int' ]['Field'].tolist()\n",
    "categorical_cols = [item for item in categorical_cols if (item not in drop_cols)]"
   ]
  },
  {
   "cell_type": "markdown",
   "metadata": {},
   "source": [
    "After this inial preprocessing, the dataset comprises of $241$ numerical (most of which are comprised of time-series statistics extracted from the actigraphy files) and $11$ categorical features."
   ]
  },
  {
   "cell_type": "code",
   "execution_count": 7,
   "metadata": {},
   "outputs": [
    {
     "name": "stdout",
     "output_type": "stream",
     "text": [
      "['Basic_Demos-Age', 'CGAS-CGAS_Score', 'Physical-BMI', 'Physical-Height', 'Physical-Weight', 'Physical-Waist_Circumference', 'Physical-Diastolic_BP', 'Physical-HeartRate', 'Physical-Systolic_BP', 'Fitness_Endurance-Max_Stage', 'Fitness_Endurance-Time_Mins', 'Fitness_Endurance-Time_Sec', 'FGC-FGC_CU', 'FGC-FGC_GSND', 'FGC-FGC_GSD', 'FGC-FGC_PU', 'FGC-FGC_SRL', 'FGC-FGC_SRR', 'FGC-FGC_TL', 'BIA-BIA_BMC', 'BIA-BIA_BMI', 'BIA-BIA_BMR', 'BIA-BIA_DEE', 'BIA-BIA_ECW', 'BIA-BIA_FFM', 'BIA-BIA_FFMI', 'BIA-BIA_FMI', 'BIA-BIA_Fat', 'BIA-BIA_ICW', 'BIA-BIA_LDM', 'BIA-BIA_LST', 'BIA-BIA_SMM', 'BIA-BIA_TBW', 'PAQ_A-PAQ_A_Total', 'PAQ_C-PAQ_C_Total', 'SDS-SDS_Total_Raw', 'SDS-SDS_Total_T', 'stat_0', 'stat_1', 'stat_2', 'stat_3', 'stat_4', 'stat_5', 'stat_6', 'stat_7', 'stat_8', 'stat_9', 'stat_10', 'stat_11', 'stat_12', 'stat_13', 'stat_14', 'stat_15', 'stat_16', 'stat_17', 'stat_18', 'stat_19', 'stat_20', 'stat_21', 'stat_22', 'stat_23', 'stat_24', 'stat_25', 'stat_26', 'stat_27', 'stat_28', 'stat_29', 'stat_30', 'stat_31', 'stat_32', 'stat_33', 'stat_34', 'stat_35', 'stat_36', 'stat_37', 'stat_38', 'stat_39', 'stat_40', 'stat_41', 'stat_42', 'stat_43', 'stat_44', 'stat_45', 'stat_46', 'stat_47', 'stat_48', 'stat_49', 'stat_50', 'stat_51', 'stat_52', 'stat_53', 'stat_54', 'stat_55', 'stat_56', 'stat_57', 'stat_58', 'stat_59', 'stat_60', 'stat_61', 'stat_62', 'stat_63', 'stat_64', 'stat_65', 'stat_66', 'stat_67', 'stat_68', 'stat_69', 'stat_70', 'stat_71', 'stat_72', 'stat_73', 'stat_74', 'stat_75', 'stat_76', 'stat_77', 'stat_78', 'stat_79', 'stat_80', 'stat_81', 'stat_82', 'stat_83', 'stat_84', 'stat_85', 'stat_86', 'stat_87', 'stat_88', 'stat_89', 'stat_90', 'stat_91', 'stat_92', 'stat_93', 'stat_94', 'stat_95', 'stat_96', 'stat_97', 'stat_98', 'stat_99', 'stat_100', 'stat_101', 'stat_102', 'stat_103', 'stat_104', 'stat_105', 'stat_106', 'stat_107', 'stat_108', 'stat_109', 'stat_110', 'stat_111', 'stat_112', 'stat_113', 'stat_114', 'stat_115', 'stat_116', 'stat_117', 'stat_118', 'stat_119', 'stat_120', 'stat_121', 'stat_122', 'stat_123', 'stat_124', 'stat_125', 'stat_126', 'stat_127', 'stat_128', 'stat_129', 'stat_130', 'stat_131', 'stat_132', 'stat_133', 'stat_134', 'stat_135', 'stat_136', 'stat_137', 'stat_138', 'stat_139', 'stat_140', 'stat_141', 'stat_142', 'stat_143', 'stat_144', 'stat_145', 'stat_146', 'stat_147', 'stat_148', 'stat_149', 'stat_150', 'stat_151', 'stat_152', 'stat_153', 'stat_154', 'stat_155', 'stat_156', 'stat_157', 'stat_158', 'stat_159', 'stat_160', 'stat_161', 'stat_162', 'stat_163', 'stat_164', 'stat_165', 'stat_166', 'stat_167', 'stat_168', 'stat_169', 'stat_170', 'stat_171', 'stat_172', 'stat_173', 'stat_174', 'stat_175', 'stat_176', 'stat_177', 'stat_178', 'stat_179', 'stat_180', 'stat_181', 'stat_182', 'stat_183', 'stat_184', 'stat_185', 'stat_186', 'stat_187', 'stat_188', 'stat_189', 'stat_190', 'stat_191', 'stat_192', 'stat_193', 'stat_194', 'stat_195', 'stat_196', 'stat_197', 'stat_198', 'stat_199', 'stat_200', 'stat_201', 'stat_202', 'stat_203']\n",
      "There are 241 numerical features.\n"
     ]
    }
   ],
   "source": [
    "print(numerical_cols)\n",
    "print(f'There are {len(numerical_cols)} numerical features.')"
   ]
  },
  {
   "cell_type": "code",
   "execution_count": 8,
   "metadata": {},
   "outputs": [
    {
     "name": "stdout",
     "output_type": "stream",
     "text": [
      "['Basic_Demos-Sex', 'FGC-FGC_CU_Zone', 'FGC-FGC_GSND_Zone', 'FGC-FGC_GSD_Zone', 'FGC-FGC_PU_Zone', 'FGC-FGC_SRL_Zone', 'FGC-FGC_SRR_Zone', 'FGC-FGC_TL_Zone', 'BIA-BIA_Activity_Level_num', 'BIA-BIA_Frame_num', 'PreInt_EduHx-computerinternet_hoursday']\n",
      "There are 11 categorical features.\n"
     ]
    }
   ],
   "source": [
    "print(categorical_cols)\n",
    "print(f'There are {len(categorical_cols)} categorical features.')"
   ]
  },
  {
   "cell_type": "markdown",
   "metadata": {},
   "source": [
    "We can see that there is severe imbalance between the different ```sii``` classes, with ```sii``` of $0$ comprising of more than $40\\%$ of the cases in the data. Hence, during cross-validation, stratification will become necessary. Even after stratification, however, the algorithm might not be able to effectively categorize ```sii``` of $3$ since it comprises of such a small proportion of the sample."
   ]
  },
  {
   "cell_type": "code",
   "execution_count": 9,
   "metadata": {},
   "outputs": [
    {
     "data": {
      "image/png": "[encoded data removed]",
      "text/plain": [
       "<Figure size 640x480 with 1 Axes>"
      ]
     },
     "metadata": {},
     "output_type": "display_data"
    }
   ],
   "source": [
    "sns.countplot(train_df, x='sii', hue='Basic_Demos-Sex', stat='percent')\n",
    "plt.title('SII classes', fontsize=15)\n",
    "plt.show()"
   ]
  },
  {
   "cell_type": "markdown",
   "metadata": {},
   "source": [
    "## Useful functions\n",
    "We define some useful functions here. \n",
    "1. ```clipped(X, r)```: This function takes in the numerical columns of the training data as input and winsorizes only those columns for which the standard deviation is much greater than the mean, expressed as the ratio $r$. This can be an effective way of winsorizing only those features that have very large outliers (some of those in the ```BIA``` category) without fixing them by hand.\n",
    "2. ```process(X, num_cols, cat_cols)```: This function performs a few simple processing steps on the data such as the aforementioned winsorization on the numerical columns and replacing occurrences of zeros with column means and converting the categorical features in ```Int64```, turning them into ordinal variables.\n",
    "3. ```cross_val_QWK(reg_class, X, y, num_cols, cat_cols, cv, verbose=False)```: This function performs a whole host of tasks and is responsible for performing stratified $k$-fold cross-validation and making predictions. Apart from these steps, this function also performs the following - \n",
    "    * **Data preprocessing:** This is done inside the cross-validation loop to prevent data leakage. \n",
    "    * $\\kappa$ **-scores:** The weighted $\\kappa$ scores are calculated for both training and validation sets at each fold using the ```quadratic_weighted_kappa(y_true, y_pred)``` function. The validation set predictions here are labeled ```oof``` (out-of -fold) for wihch there are ```oof_not_rounded``` and ```oof_rounded```, where the former arises from the fact that the model is being trained with regressors. The rounding thresholds can be the default $x_0=\\left[ 0.5, 1.5, 2.5 \\right]$ or a optimal set of thresholds by maximizing $\\kappa$. This optimized threshold $x_{0,\\text{opt}}$ is then used to round-off the mean predictions over the $k$-folds of cross-validation.\n",
    "4. ```objective(trial, reg, X, y, num_cols, cat_cols, cv, verbose=False)``` and ```hyperparam_optim(reg, X, y, num_cols, cat_cols, n_trials=25, cv=5)```: These functions perform hyperparameter optimization using ```Optuna```."
   ]
  },
  {
   "cell_type": "code",
   "execution_count": 29,
   "metadata": {},
   "outputs": [],
   "source": [
    "def clipped(X, r):\n",
    "    ''' \n",
    "    This function caps the numerical columns to the specified upper and lower quantiles on respective ends. It does so for those featutres\n",
    "    for which the standard deviation is much greater or equal the mean. This is passed as a desired ratio of std/mean.\n",
    "    '''\n",
    "    X_clipped = X.copy()\n",
    "\n",
    "    ratio = X_clipped.std() / X_clipped.mean()\n",
    "    idx_list = ratio[ ratio.where(ratio >= r).notna() ].index.tolist()\n",
    "\n",
    "    for idx in idx_list:\n",
    "        lq = X_clipped[idx].quantile(0.05)\n",
    "        uq = X_clipped[idx].quantile(0.95)\n",
    "        X_clipped.loc[:, idx] = X_clipped.loc[:, idx].clip(lower=lq, upper=uq)\n",
    "\n",
    "    return X_clipped\n",
    "\n",
    "def process(X, num_cols, cat_cols):\n",
    "    ''' \n",
    "    This function performs preprocessing on the data. The training data is first split into numerical and categorical features.\n",
    "    '''\n",
    "    X_numerical = X[num_cols]\n",
    "\n",
    "    X_categorical = X[cat_cols]\n",
    "    X_categorical = X_categorical.astype('Int64')\n",
    "\n",
    "    # Some numerical features have erroneous zero values - e.g. BMI, blood pressure etc\n",
    "    # Winsorize X_numerical and replace occurrences of zero with feature mean\n",
    "\n",
    "    X_numerical = clipped(X_numerical, 1.5)\n",
    "    X_numerical.replace(0, X_numerical.mean(axis=0), inplace=True)\n",
    "\n",
    "    X_processed = X_categorical.join(X_numerical)\n",
    "\n",
    "    return X_processed\n",
    "\n",
    "def quadratic_weighted_kappa(y_true, y_pred):\n",
    "    return cohen_kappa_score(y_true, y_pred, weights='quadratic')\n",
    "\n",
    "def threshold_rounder(oof_not_rounded, thresholds):\n",
    "    ''' \n",
    "    This function iteratively rounds up (or down) the validation set predictions using a predefined threshold passed as an array.\n",
    "    By default, the thresholds can be set as [0.5, 1.5, 2.5], such that predicts lesser (or greater) than the thresholds will be\n",
    "    rounded to the nearest integer.\n",
    "    \n",
    "    This function can be particularly useful when one wishes to implement a custom rounding threshold.\n",
    "    '''\n",
    "    thresh_0, thresh_1, thresh_2 = thresholds # unpack the thresholds\n",
    "\n",
    "    return np.where(\n",
    "        oof_not_rounded < thresh_0, 0, np.where(oof_not_rounded < thresh_1, 1, np.where(oof_not_rounded < thresh_2, 2, 3))\n",
    "    )\n",
    "\n",
    "def evaluate_predictions(thresholds, y, oof_not_rounded):\n",
    "\ty_pred_rounded = threshold_rounder(oof_not_rounded, thresholds)\n",
    "\treturn -quadratic_weighted_kappa(y, y_pred_rounded)\n",
    "\n",
    "def cross_val_QWK(reg_class, X, y, num_cols, cat_cols, cv, verbose=False):\n",
    "    ''' \n",
    "    This function takes in a particular classifier and training data and perfoms Stratified k-Fold cross-validation on it\n",
    "    and calculates the out-of-fold (OOF) QWK score.\n",
    "    '''\n",
    "    X = process(X, num_cols, cat_cols)\n",
    "    N_SPLITS = cv\n",
    "    train_scores = [] # training QWK scores across folds\n",
    "    val_scores = []   # validation QWK scores across folds\n",
    "\n",
    "    oof_not_rounded = np.zeros(len(y), dtype=np.float32) # array for storing out-of-fold prediction from regressor\n",
    "    oof_rounded = np.zeros(len(y), dtype=np.int32) # array for storing out-of-fold prediction that has been rounded\n",
    "    y_pred = np.zeros((len(X_test), N_SPLITS))\n",
    "    \n",
    "    SKF = StratifiedKFold(n_splits=N_SPLITS, shuffle=True)\n",
    "\n",
    "    ''' \n",
    "    Performing Stratified k-fold cross validation with n_splits=5; the training set XX will be further\n",
    "    split into training and validation sets a total of n_split times. The data preprocessing steps (imputation and scaling)\n",
    "    will be applied here to prevent data leakage.\n",
    "    '''\n",
    "    for fold, (train_idx, test_idx) in enumerate(SKF.split(X, y)):\n",
    "\n",
    "        # Breaking up the training data into further training and validation sets during each iteration\n",
    "        X_train, X_val = X.iloc[train_idx], X.iloc[test_idx]\n",
    "        y_train, y_val = y.iloc[train_idx], y.iloc[test_idx]\n",
    "\n",
    "        # Data pre-processing\n",
    "\n",
    "        numerical_transformer = Pipeline(\n",
    "            steps=[\n",
    "                ('imp_num', KNNImputer(n_neighbors=5, weights='uniform')),\n",
    "                #('imp_num', SimpleImputer(strategy='mean')),\n",
    "                #('ss', StandardScaler())\n",
    "            ]\n",
    "        )\n",
    "\n",
    "        categorical_transformer = Pipeline(\n",
    "            steps=[\n",
    "                ('imp_cat', KNNImputer(n_neighbors=5, weights='uniform')),\n",
    "                #('imp_cat', SimpleImputer(strategy='most_frequent')),\n",
    "            ]\n",
    "        )\n",
    "\n",
    "        preprocessor = ColumnTransformer(\n",
    "            transformers=[\n",
    "                ('numerical_transforms', numerical_transformer, num_cols),\n",
    "                ('categorical_transforms', categorical_transformer, cat_cols[1:])\n",
    "            ], remainder='passthrough'\n",
    "        )\n",
    "\n",
    "        preprocessor.set_output(transform='pandas')\n",
    "        X_train = preprocessor.fit_transform(X_train)\n",
    "        X_val = preprocessor.transform(X_val)\n",
    "        test_data = preprocessor.transform(X_test)\n",
    "\n",
    "        reg = clone(reg_class)\n",
    "        reg.fit(X_train, y_train)\n",
    "\n",
    "        y_train_pred = reg.predict(X_train)\n",
    "        y_val_pred = reg.predict(X_val)\n",
    "\n",
    "        oof_not_rounded[test_idx] = y_val_pred\n",
    "        oof_rounded[test_idx] = y_val_pred.round(0).astype('int32')\n",
    "\n",
    "        kappa_train = quadratic_weighted_kappa(y_train, y_train_pred.round(0).astype('int32'))\n",
    "        kappa_val = quadratic_weighted_kappa(y_val, y_val_pred.round(0).astype('int32'))\n",
    "\n",
    "        train_scores.append(kappa_train)\n",
    "        val_scores.append(kappa_val)\n",
    "        y_pred[:, fold] = reg.predict(test_data)\n",
    "\n",
    "        if verbose:\n",
    "\n",
    "            print(f'Fold {fold + 1}: Training QWK = {kappa_train:.4f}, Validation QWK: {kappa_val:.4f}')\n",
    "\n",
    "    if verbose:\n",
    "\n",
    "        print(f'Mean training QWK = {np.mean(train_scores):.4f}')\n",
    "        print(f'Mean validation QWK = {np.mean(val_scores):.4f}')\n",
    "\n",
    "    ''' \n",
    "    In kappa_optimizer the QWK metric is maximized (or rather the negative QWK is minimize) to obtain a set of optimal \n",
    "    rounding threshold values.\n",
    "    '''\n",
    "    kappa_optimizer = minimize(evaluate_predictions, x0 = [0.5, 1.5, 2.5], args=(y, oof_not_rounded), method='Nelder-Mead')\n",
    "    threshold_optim = kappa_optimizer.x\n",
    "    #assert kappa_optimizer.succes, 'Optimizer did not converge.'\n",
    "\n",
    "    oof_tuned = threshold_rounder(oof_not_rounded, threshold_optim)\n",
    "    kappa_val_tuned = quadratic_weighted_kappa(y, oof_tuned)\n",
    "\n",
    "    print(f'Tuned QWK = {kappa_val_tuned}')\n",
    "\n",
    "    y_pred_mean = threshold_rounder(y_pred.mean(axis=1), threshold_optim)\n",
    "\n",
    "    return y_pred_mean \n",
    "    \n",
    "\n",
    "def objective(trial, reg, X, y, num_cols, cat_cols, cv, verbose=False):\n",
    "    ''' \n",
    "    This function performs hyperparameter optimization using Optuna for a given classifier model.\n",
    "    '''\n",
    "\n",
    "    if reg == 'XGBoost':\n",
    "        # Hyperparameters for XGBoost regressor\n",
    "        params = {\n",
    "            'objective' : trial.suggest_categorical('objective', ['reg:squarederror', 'reg:absoluteerror', 'reg:pseudohubererror']),\n",
    "            'n_estimators' : trial.suggest_int('n_estimators', 100, 500),\n",
    "            'max_depth' : trial.suggest_int('max_depth', 5, 15),\n",
    "            'learning_rate' : trial.suggest_float('learning_rate', 1e-3, 0.1, log=True),\n",
    "            'gamma' : trial.suggest_float('gamma', 0.0, 5.0),\n",
    "            'reg_alpha': trial.suggest_float('reg_alpha', 1e-5, 0.1, log=True),\n",
    "            'reg_lambda': trial.suggest_float('reg_lambda', 1e-5, 0.1, log=True),\n",
    "            'subsample' : trial.suggest_float('subsample', 0.5, 1.0)\n",
    "        }\n",
    "\n",
    "        model = XGBRegressor(**params)\n",
    "\n",
    "    elif reg == 'LightGBM':\n",
    "        # Hyperparameters for LightGBM regressor\n",
    "        params = {\n",
    "            'objective' : trial.suggest_categorical('objective', ['regression', 'poisson', 'quantile']),\n",
    "            'verbosity' : -1,\n",
    "            'n_estimators' : trial.suggest_int('n_estimators', 100, 500),\n",
    "            'max_depth' : trial.suggest_int('max_depth', 5, 15),\n",
    "            'learning_rate' : trial.suggest_float('learning_rate', 1e-3, 0.1, log=True),\n",
    "            'subsample' : trial.suggest_float('subsample', 0.5, 1.0)\n",
    "        }\n",
    "\n",
    "        model = LGBMRegressor(**params)\n",
    "\n",
    "    elif reg == 'CatBoost':\n",
    "        # Hyperparameters for CatBoost regressor\n",
    "        params = {\n",
    "            'objective' : trial.suggest_categorical('objective', ['RMSE', 'Poisson', 'Quantile']),\n",
    "            'iterations': trial.suggest_int('iterations', 200, 500),\n",
    "            'depth': trial.suggest_int('depth', 4, 10),\n",
    "            'learning_rate': trial.suggest_float('learning_rate', 0.01, 0.1, log=True),\n",
    "            'l2_leaf_reg': trial.suggest_float('l2_leaf_reg', 1e-5, 0.1, log=True),\n",
    "            #'subsample': trial.suggest_float('subsample', 0.5, 1.0)\n",
    "        }\n",
    "\n",
    "        model = CatBoostRegressor(**params, verbose=0)\n",
    "\n",
    "    else:\n",
    "\n",
    "        raise ValueError(f'Unsupported regressor type: {reg}')\n",
    "    \n",
    "    val_QWK = cross_val_QWK(model, X, y, num_cols, cat_cols, cv)\n",
    "\n",
    "    return val_QWK\n",
    "\n",
    "def hyperparam_optim(reg, X, y, num_cols, cat_cols, n_trials=25, cv=5): \n",
    "    study = optuna.create_study(direction='maximize')\n",
    "    study.optimize(\n",
    "        lambda trial: objective(trial, reg, X, y, num_cols, cat_cols, cv),\n",
    "        n_trials=n_trials \n",
    "    )\n",
    "\n",
    "    print(f'Best parameters for {reg}: {study.best_params}')\n",
    "    print(f'Best QWK score: {study.best_value}')\n",
    "    return study.best_params"
   ]
  },
  {
   "cell_type": "markdown",
   "metadata": {},
   "source": [
    "### Predictions"
   ]
  },
  {
   "cell_type": "code",
   "execution_count": 30,
   "metadata": {},
   "outputs": [
    {
     "name": "stdout",
     "output_type": "stream",
     "text": [
      "Fold 1: Training QWK = 0.7567, Validation QWK: 0.3975\n",
      "Fold 2: Training QWK = 0.7621, Validation QWK: 0.3876\n",
      "Fold 3: Training QWK = 0.7534, Validation QWK: 0.3323\n",
      "Fold 4: Training QWK = 0.7595, Validation QWK: 0.4193\n",
      "Fold 5: Training QWK = 0.7547, Validation QWK: 0.3425\n",
      "Mean training QWK = 0.7573\n",
      "Mean validation QWK = 0.3758\n",
      "Tuned QWK = 0.4491222179082237\n"
     ]
    }
   ],
   "source": [
    " # validation QWK = 0.369\n",
    "xgb_params = {\n",
    "    'objective': 'reg:pseudohubererror',\n",
    "    'n_estimators': 157,\n",
    "    'max_depth': 8,\n",
    "    'learning_rate': 0.03747807982154853,\n",
    "    'gamma': 3.3972493317616235,\n",
    "    'reg_alpha': 0.019288617659988346,\n",
    "    'reg_lambda': 1.1622365647503362e-05,\n",
    "    'subsample': 0.5463994889151166\n",
    "}\n",
    "\n",
    "# validation QWK = 0.394\n",
    "lgb_params = {\n",
    "    'objective': 'regression',\n",
    "    'n_estimators': 438,\n",
    "    'max_depth': 12,\n",
    "    'learning_rate': 0.011007625265216012,\n",
    "    'subsample': 0.9500505257332115\n",
    "}\n",
    "\n",
    "# validation QWK = 0.382\n",
    "cb_params = {\n",
    "    'objective': 'Poisson',\n",
    "    'iterations': 410,\n",
    "    'depth': 4,\n",
    "    'learning_rate': 0.03217561086495608,\n",
    "    'l2_leaf_reg': 0.0030777935770974554\n",
    "}\n",
    "\n",
    "xgb_reg = XGBRegressor(**xgb_params)\n",
    "lgb_reg = LGBMRegressor(**lgb_params, verbosity=-1)\n",
    "cb_reg = CatBoostRegressor(**cb_params, verbose=0)\n",
    "\n",
    "voting_reg = VotingRegressor(\n",
    "    estimators=[\n",
    "        ('XGBoost', xgb_reg),\n",
    "        ('LightGBM', lgb_reg),\n",
    "        ('CatBoost', cb_reg)\n",
    "    ],\n",
    "    weights = [1, 1, 1]\n",
    ")\n",
    "\n",
    "y_pred = cross_val_QWK(voting_reg, X_train, y, numerical_cols, categorical_cols, cv=5, verbose=True)"
   ]
  },
  {
   "cell_type": "code",
   "execution_count": 12,
   "metadata": {},
   "outputs": [],
   "source": [
    "output = pd.DataFrame({'id': X_test.index.tolist(), 'sii': y_pred})"
   ]
  },
  {
   "cell_type": "code",
   "execution_count": 13,
   "metadata": {},
   "outputs": [],
   "source": [
    "output.to_csv('submission.csv', index=False)"
   ]
  },
  {
   "cell_type": "code",
   "execution_count": null,
   "metadata": {},
   "outputs": [],
   "source": []
  }
 ],
 "metadata": {
  "kernelspec": {
   "display_name": "Python 3 (ipykernel)",
   "language": "python",
   "name": "python3"
  },
  "language_info": {
   "codemirror_mode": {
    "name": "ipython",
    "version": 3
   },
   "file_extension": ".py",
   "mimetype": "text/x-python",
   "name": "python",
   "nbconvert_exporter": "python",
   "pygments_lexer": "ipython3",
   "version": "3.11.8"
  }
 },
 "nbformat": 4,
 "nbformat_minor": 4
}
