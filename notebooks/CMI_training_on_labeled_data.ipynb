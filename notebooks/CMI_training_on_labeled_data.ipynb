{
 "cells": [
  {
   "cell_type": "markdown",
   "metadata": {},
   "source": [
    "# Training on labeled data - boosted classifiers\n",
    "\n",
    "Here we train only the subset of ```train.csv``` that contains the ```sii``` labels on a few boosted classifier algorithms (XGBoost, CatBoost and LightGBM). For a simple analysis, we do not incorporate the actigraphy data. In this notebook, we perform the following tasks-\n",
    "1. **Data preprocessing:** The training data with ```sii``` is separated out and the numerical and categorical columns are processed separately. Since some of the numerical features have very large outliers, they are *winsorized*. During the processing, the numerical and categorical features are imputed using various strategies (simple, knn and iterative).\n",
    "2. **Hyperparameter tuning:** GridSearchCV and ShuffleSplit are used on the training data with various estimators to obtain the optimal hyperparameters."
   ]
  },
  {
   "cell_type": "code",
   "execution_count": 83,
   "metadata": {},
   "outputs": [],
   "source": [
    "import numpy as np\n",
    "import pandas as pd\n",
    "import re\n",
    "import matplotlib.pyplot as plt\n",
    "%matplotlib inline\n",
    "import seaborn as sns\n",
    "\n",
    "plt.rc('text', usetex=True)\n",
    "plt.rc('font', family='serif')\n",
    "plt.rc('xtick',labelsize=12)\n",
    "plt.rc('ytick',labelsize=12)\n",
    "\n",
    "sns.set_theme()\n",
    "\n",
    "import warnings\n",
    "warnings.filterwarnings('ignore')\n",
    "\n",
    "from tqdm import tqdm \n",
    "from sklearn.base import clone \n",
    "from sklearn.experimental import enable_iterative_imputer\n",
    "from sklearn.impute import KNNImputer, IterativeImputer, SimpleImputer\n",
    "from sklearn.compose import ColumnTransformer\n",
    "from sklearn.pipeline import Pipeline\n",
    "from sklearn.preprocessing import OrdinalEncoder, StandardScaler\n",
    "from sklearn.model_selection import ShuffleSplit, GridSearchCV\n",
    "from sklearn.model_selection import StratifiedKFold\n",
    "from xgboost import XGBClassifier\n",
    "from lightgbm import LGBMClassifier\n",
    "from catboost import CatBoostClassifier\n",
    "from sklearn.ensemble import VotingClassifier\n",
    "from sklearn.metrics import make_scorer, cohen_kappa_score"
   ]
  },
  {
   "cell_type": "code",
   "execution_count": 8,
   "metadata": {},
   "outputs": [],
   "source": [
    "folder_path = './../child-mind-institute-problematic-internet-use/'\n",
    "\n",
    "train_df = pd.read_csv(folder_path + 'train.csv', index_col='id')\n",
    "test_df = pd.read_csv(folder_path + 'test.csv', index_col='id')\n",
    "data_dict = pd.read_csv(folder_path + 'data_dictionary.csv')"
   ]
  },
  {
   "cell_type": "markdown",
   "metadata": {},
   "source": [
    "The test set has fewer attributes than training. Other than ```sii```, it is also missing the different ```PCIAT``` columns. This makes sense since the ```sii``` scores are possibly based on the ```PCIAT``` scores and the task of the learning model is to use other factors to predict the score."
   ]
  },
  {
   "cell_type": "code",
   "execution_count": 11,
   "metadata": {},
   "outputs": [
    {
     "data": {
      "text/plain": [
       "{'PCIAT-PCIAT_01',\n",
       " 'PCIAT-PCIAT_02',\n",
       " 'PCIAT-PCIAT_03',\n",
       " 'PCIAT-PCIAT_04',\n",
       " 'PCIAT-PCIAT_05',\n",
       " 'PCIAT-PCIAT_06',\n",
       " 'PCIAT-PCIAT_07',\n",
       " 'PCIAT-PCIAT_08',\n",
       " 'PCIAT-PCIAT_09',\n",
       " 'PCIAT-PCIAT_10',\n",
       " 'PCIAT-PCIAT_11',\n",
       " 'PCIAT-PCIAT_12',\n",
       " 'PCIAT-PCIAT_13',\n",
       " 'PCIAT-PCIAT_14',\n",
       " 'PCIAT-PCIAT_15',\n",
       " 'PCIAT-PCIAT_16',\n",
       " 'PCIAT-PCIAT_17',\n",
       " 'PCIAT-PCIAT_18',\n",
       " 'PCIAT-PCIAT_19',\n",
       " 'PCIAT-PCIAT_20',\n",
       " 'PCIAT-PCIAT_Total',\n",
       " 'PCIAT-Season',\n",
       " 'sii'}"
      ]
     },
     "execution_count": 11,
     "metadata": {},
     "output_type": "execute_result"
    }
   ],
   "source": [
    "train_cols = train_df.columns.tolist()\n",
    "test_cols = test_df.columns.tolist()\n",
    "\n",
    "set(train_cols) - set(test_cols) # the difference between two lists can be taken if converted to sets"
   ]
  },
  {
   "cell_type": "markdown",
   "metadata": {},
   "source": [
    "## Preprocessing"
   ]
  },
  {
   "cell_type": "markdown",
   "metadata": {},
   "source": [
    "We first remove the different ```PCIAT``` columns from the training dataset. Then, we consider the subset of the data that has ```sii``` values associated with them. The numerical and categorical columns are then separated out. Here, the categorical columns are those features which are labeled as ```categorical int``` in ```data_dictionary.csv```."
   ]
  },
  {
   "cell_type": "code",
   "execution_count": 12,
   "metadata": {},
   "outputs": [],
   "source": [
    "drop_cols = list(set(train_cols) - set(test_cols)) # columns for dropping from training set\n",
    "drop_cols.remove('sii')\n",
    "\n",
    "''' \n",
    "Selecting the subset that contains 'sii' labels and create X_train and y (labels)\n",
    "'''\n",
    "train_df_subset = train_df[train_df.loc[:, 'sii'].notna()]\n",
    "train_df_subset.drop(columns=drop_cols, inplace=True)\n",
    "\n",
    "X_train = train_df_subset.iloc[:, 0:-1]\n",
    "y = train_df_subset.loc[:, 'sii'].astype('int')\n",
    "X_test = test_df "
   ]
  },
  {
   "cell_type": "markdown",
   "metadata": {},
   "source": [
    "We separate out the numerical and categorical columns using the ```Type``` field in the ```data_dictionary.csv``` file, where the categorical features are solely those that are labeled as ```categorical int``` in ```data_dictionary.csv```. However, we note that ```PCIAT-PCIAT_Total``` field must be manually removed. Furthermore, we drop the different 'Enrolment Season' columns."
   ]
  },
  {
   "cell_type": "code",
   "execution_count": 18,
   "metadata": {},
   "outputs": [],
   "source": [
    "numerical_cols = data_dict[\n",
    "    (data_dict['Type']=='float') | (data_dict['Type']=='int')\n",
    "]['Field'].tolist()\n",
    "numerical_cols.remove('PCIAT-PCIAT_Total')\n",
    "numerical_cols = [item for item in numerical_cols if (item not in drop_cols)]\n",
    "\n",
    "categorical_cols = data_dict[data_dict['Type']=='categorical int']['Field'].tolist() \n",
    "\n",
    "categorical_cols = [item for item in categorical_cols if (item not in drop_cols)] # this contains PCIAT; needs to be removed"
   ]
  },
  {
   "cell_type": "code",
   "execution_count": 19,
   "metadata": {},
   "outputs": [
    {
     "name": "stdout",
     "output_type": "stream",
     "text": [
      "['Basic_Demos-Age', 'CGAS-CGAS_Score', 'Physical-BMI', 'Physical-Height', 'Physical-Weight', 'Physical-Waist_Circumference', 'Physical-Diastolic_BP', 'Physical-HeartRate', 'Physical-Systolic_BP', 'Fitness_Endurance-Max_Stage', 'Fitness_Endurance-Time_Mins', 'Fitness_Endurance-Time_Sec', 'FGC-FGC_CU', 'FGC-FGC_GSND', 'FGC-FGC_GSD', 'FGC-FGC_PU', 'FGC-FGC_SRL', 'FGC-FGC_SRR', 'FGC-FGC_TL', 'BIA-BIA_BMC', 'BIA-BIA_BMI', 'BIA-BIA_BMR', 'BIA-BIA_DEE', 'BIA-BIA_ECW', 'BIA-BIA_FFM', 'BIA-BIA_FFMI', 'BIA-BIA_FMI', 'BIA-BIA_Fat', 'BIA-BIA_ICW', 'BIA-BIA_LDM', 'BIA-BIA_LST', 'BIA-BIA_SMM', 'BIA-BIA_TBW', 'PAQ_A-PAQ_A_Total', 'PAQ_C-PAQ_C_Total', 'SDS-SDS_Total_Raw', 'SDS-SDS_Total_T']\n",
      "There are 37 numerical features.\n"
     ]
    }
   ],
   "source": [
    "print(numerical_cols)\n",
    "print(f'There are {len(numerical_cols)} numerical features.')"
   ]
  },
  {
   "cell_type": "code",
   "execution_count": 20,
   "metadata": {},
   "outputs": [
    {
     "name": "stdout",
     "output_type": "stream",
     "text": [
      "['Basic_Demos-Sex', 'FGC-FGC_CU_Zone', 'FGC-FGC_GSND_Zone', 'FGC-FGC_GSD_Zone', 'FGC-FGC_PU_Zone', 'FGC-FGC_SRL_Zone', 'FGC-FGC_SRR_Zone', 'FGC-FGC_TL_Zone', 'BIA-BIA_Activity_Level_num', 'BIA-BIA_Frame_num', 'PreInt_EduHx-computerinternet_hoursday']\n",
      "There are 11 categorical features.\n"
     ]
    }
   ],
   "source": [
    "print(categorical_cols)\n",
    "print(f'There are {len(categorical_cols)} categorical features.')"
   ]
  },
  {
   "cell_type": "markdown",
   "metadata": {},
   "source": [
    "### Useful functions\n",
    "\n",
    "We define some useful functions here. \n",
    "1. ```clipped(X, r)```: This function takes in the numerical columns of the training data as input and winsorizes only those columns for which the standard deviation is much greater than the mean, expressed as the ratio $r$.\n",
    "2. ```processing(X)```: This function takes the training dataset ```X```, splits it into numerical and categorical features and performs the necessary processing steps. These include winsorization, replacing occurrences of zeros with means and imputation. For imputation, we tested between ```KNNImputer()``` and ```IterativeImputer()```, where we found that the former generally performs better with ```n_neighbors=2```.\n",
    "3. ```ParamSearchModels(X, y)```: This function takes in the processed data and performs ```ShuffleSplit()``` and ```GridSearchCV``` for the estimators (LightGBM, CatBoost and XGBoost) and parameter sets specified."
   ]
  },
  {
   "cell_type": "code",
   "execution_count": 91,
   "metadata": {},
   "outputs": [],
   "source": [
    "def clipped(X, r):\n",
    "    ''' \n",
    "    This function caps the numerical columns to the specified upper and lower quantiles on respective ends. It does so for those featutres\n",
    "    for which the standard deviation is much greater or equal the mean. This is passed as a desired ratio of std/mean.\n",
    "    '''\n",
    "    X_clipped = X.copy()\n",
    "\n",
    "    ratio = X_clipped.std() / X_clipped.mean()\n",
    "    idx_list = ratio[ ratio.where(ratio >= r).notna() ].index.tolist()\n",
    "\n",
    "    for idx in idx_list:\n",
    "        lq = X_clipped[idx].quantile(0.05)\n",
    "        uq = X_clipped[idx].quantile(0.95)\n",
    "        X_clipped[idx].clip(lower=lq, upper=uq, inplace=True)\n",
    "\n",
    "    return X_clipped\n",
    "\n",
    "def processing(X):\n",
    "    ''' \n",
    "    The training data is first split into numerical and categorical features.\n",
    "    '''\n",
    "    X_numerical = X[numerical_cols]\n",
    "\n",
    "    X_categorical = X[categorical_cols]\n",
    "\n",
    "    # Some numerical features have erroneous zero values - e.g. BMI, blood pressure etc\n",
    "    # Winsorize X_numerical and replace occurrences of zero with feature mean\n",
    "\n",
    "    X_numerical = clipped(X_numerical, 1.5)\n",
    "    X_numerical.replace(0, X_numerical.mean(axis=0), inplace=True)\n",
    "\n",
    "    ''' \n",
    "    Here we perform imputation and standardization. The 'sex' column is not explicitly one-hot encoded since it is a\n",
    "    binary feature. Both categorical and numerical columns are imputed through some appropriate means (not specified here\n",
    "    since it can change).\n",
    "\n",
    "    The numerical columns are also standardized using the StandardScaler().\n",
    "    '''\n",
    "\n",
    "    # Since the sex column is binary, we are not performing one-hot encoding on it.\n",
    "    ct = ColumnTransformer(\n",
    "        transformers=[\n",
    "            ('imp_cat', KNNImputer(n_neighbors=2, weights='uniform'), categorical_cols[1:])\n",
    "        ], remainder='passthrough' \n",
    "    )\n",
    "\n",
    "    ct.set_output(transform='pandas')\n",
    "    X_categorical = ct.fit_transform(X_categorical)\n",
    "    X_categorical = X_categorical.astype('int')\n",
    "\n",
    "    pipeline = Pipeline(\n",
    "        [\n",
    "            ('imp_num',  KNNImputer(n_neighbors=2, weights='uniform')),\n",
    "            #('imp_num', IterativeImputer(max_iter=10, random_state=1, sample_posterior=True)),\n",
    "            #('imp_num', SimpleImputer()),\n",
    "            ('ss', StandardScaler())\n",
    "        ]\n",
    "    )\n",
    "    pipeline.set_output(transform='pandas')\n",
    "    X_numerical = pipeline.fit_transform(X_numerical)\n",
    "\n",
    "    X_processed = X_categorical.join(X_numerical)\n",
    "\n",
    "    return X_processed\n",
    "\n",
    "\n",
    "def quadratic_weighted_kappa(y_true, y_pred):\n",
    "    return cohen_kappa_score(y_true, y_pred, weights='quadratic')\n",
    "\n",
    "def ParamSearchModels(X, y):\n",
    "\n",
    "    algorithms = {\n",
    "        'LightGBM': {\n",
    "            'model'    : LGBMClassifier(),\n",
    "            'params'   : {\n",
    "                'n_estimators' : [100, 200],\n",
    "                'max_depth'    : [5, 10, 15],\n",
    "                'learning_rate': [0.01, 0.1],\n",
    "                'drop_rate'    : [0.25, 0.5],\n",
    "                'verbose'      : [-1] \n",
    "            }\n",
    "        },\n",
    "        \n",
    "        'CatBoost' : {\n",
    "            'model' : CatBoostClassifier(verbose=False),\n",
    "            'params' : {\n",
    "                'iterations' : [200],\n",
    "                'learning_rate' : [0.001, 0.01, 0.1],\n",
    "                'depth'         : [10],\n",
    "                'l2_leaf_reg'   : [3, 5, 10]    \n",
    "            }\n",
    "            \n",
    "        },\n",
    "        'XGBoost' : {\n",
    "            'model'    : XGBClassifier(),\n",
    "            'params'   : {\n",
    "                'n_estimators' : [50, 100, 150],\n",
    "                'max_depth'    : [5, 10, 15],\n",
    "                'subsample'    : [0.5, 0.75],\n",
    "                'gamma'        : [0.01, 0.05, 0.1],\n",
    "                'eta'          : [0.001, 0.01, 0.1],\n",
    "                'lambda'       : [1, 5, 10],\n",
    "                'alpha'        : [1, 5, 10]\n",
    "            }\n",
    "        }\n",
    "    }\n",
    "\n",
    "    scores = []\n",
    "    QWK_scorer = make_scorer(quadratic_weighted_kappa, greater_is_better=True)\n",
    "    cv = ShuffleSplit(n_splits = 5, test_size=0.2)\n",
    "    \n",
    "    for algorithm, config in tqdm(algorithms.items()):\n",
    "        GS = GridSearchCV( \n",
    "            config['model'], \n",
    "            config['params'], \n",
    "            cv=cv, \n",
    "            return_train_score=False,\n",
    "            scoring = QWK_scorer,\n",
    "            n_jobs = -1\n",
    "        )\n",
    "        GS.fit(X, y)\n",
    "        scores.append(\n",
    "            {\n",
    "                'model'       : algorithm,\n",
    "                'best_score'  : GS.best_score_,\n",
    "                'best_params' : GS.best_params_ \n",
    "            }\n",
    "        )\n",
    "\n",
    "    return pd.DataFrame(scores, columns=['model', 'best_score', 'best_params'])\n",
    "\n",
    "\n",
    "def train_model(clf_class, X_train, X_test, y):\n",
    "    # naming the processing(X_train) as XX to avoid naming conflicts further\n",
    "    XX = processing(X_train)\n",
    "\n",
    "    n_splits = 5\n",
    "    SKF = StratifiedKFold(n_splits=n_splits, shuffle=True)\n",
    "    train_scores = [] # training QWK scores across folds\n",
    "    val_scores = []   # validation QWK scores across folds\n",
    "\n",
    "    y_test_pred = np.zeros((len(X_test), n_splits)) # stores predictions across all folds\n",
    "\n",
    "    ''' \n",
    "    Performing Stratified k-fold cross validation with n_splits=5; the training set XX will be further\n",
    "    split into training and validation sets a total of n_split times\n",
    "    '''\n",
    "    for fold, (train_idx, test_idx) in enumerate(tqdm(SKF.split(XX, y), desc='Training folds', total=n_splits)):\n",
    "\n",
    "        # Breaking up the training data into further training and validation sets during each iteration\n",
    "        XX_train, XX_val = XX.iloc[train_idx], XX.iloc[test_idx]\n",
    "        y_train, y_val = y.iloc[train_idx], y.iloc[test_idx]\n",
    "\n",
    "        clf = clone(clf_class)\n",
    "        clf.fit(XX_train, y_train)\n",
    "\n",
    "        y_train_pred = clf.predict(XX_train)\n",
    "        y_val_pred = clf.predict(XX_val)\n",
    "\n",
    "        kappa_train = quadratic_weighted_kappa(y_train, y_train_pred)\n",
    "        kappa_val = quadratic_weighted_kappa(y_val, y_val_pred)\n",
    "\n",
    "        train_scores.append(kappa_train)\n",
    "        val_scores.append(kappa_val)\n",
    "\n",
    "        y_test_pred[:, fold] = clf.predict(processing(X_test))\n",
    "\n",
    "        print(f'Fold {fold + 1}: Training QWK = {kappa_train:.4f}, Validation QWK: {kappa_val:.4f}')\n",
    "    \n",
    "    print(f'Mean training QWK = {np.mean(train_scores):.4f}')\n",
    "    print(f'Mean validation QWK = {np.mean(val_scores):.4f}')\n",
    "\n",
    "    y_test_pred_mean = y_test_pred.mean(axis=1)\n",
    "    #y_output = pd.DataFrame(\n",
    "    #    {\n",
    "    #        'id': X_test.index.tolist(),\n",
    "    #        'sii': y_test_pred\n",
    "    #    }\n",
    "    #)\n",
    "\n",
    "    return train_scores, val_scores, y_test_pred\n",
    "\n",
    "def make_predictions(estimator, params, X_train, X_test):\n",
    "    clf = estimator(**params)\n",
    "    clf.fit(X_train, y)\n",
    "\n",
    "    y_pred = clf.predict(X_test).tolist()\n",
    "    test_id = X_test.index.tolist()\n",
    "\n",
    "    return pd.DataFrame({'id': test_id, 'sii': y_pred})"
   ]
  },
  {
   "cell_type": "markdown",
   "metadata": {},
   "source": [
    "Performing ```GridSearchCV``` on the three boosted classifiers, we find that the ```XGBClassifier``` performs best."
   ]
  },
  {
   "cell_type": "code",
   "execution_count": 93,
   "metadata": {},
   "outputs": [],
   "source": [
    "X_train_processed = processing(X_train)\n",
    "\n",
    "#GS_params_data = ParamSearchModels(X_train_processed, y)\n",
    "\n",
    "#GS_params_data"
   ]
  },
  {
   "cell_type": "markdown",
   "metadata": {},
   "source": [
    "Since the XGBoost and LightGBM classifiers perform the best, we combine these two, along with the generated hyperparameters, in a ```VotingClassifier()``` model with a weight ratio of $[0.25, 0.75]$ favoring XGBoost. This is then cross-validated through Stratified k-fold with training and validation QWK scores generated at each fold. For the final prediction, we use the fold which generates the highest validation score."
   ]
  },
  {
   "cell_type": "code",
   "execution_count": 94,
   "metadata": {},
   "outputs": [
    {
     "name": "stderr",
     "output_type": "stream",
     "text": [
      "Training folds:  20%|██        | 1/5 [00:00<00:03,  1.25it/s]"
     ]
    },
    {
     "name": "stdout",
     "output_type": "stream",
     "text": [
      "Fold 1: Training QWK = 0.8051, Validation QWK: 0.3407\n"
     ]
    },
    {
     "name": "stderr",
     "output_type": "stream",
     "text": [
      "Training folds:  40%|████      | 2/5 [00:01<00:02,  1.26it/s]"
     ]
    },
    {
     "name": "stdout",
     "output_type": "stream",
     "text": [
      "Fold 2: Training QWK = 0.8200, Validation QWK: 0.3415\n"
     ]
    },
    {
     "name": "stderr",
     "output_type": "stream",
     "text": [
      "Training folds:  60%|██████    | 3/5 [00:02<00:01,  1.29it/s]"
     ]
    },
    {
     "name": "stdout",
     "output_type": "stream",
     "text": [
      "Fold 3: Training QWK = 0.8160, Validation QWK: 0.3057\n"
     ]
    },
    {
     "name": "stderr",
     "output_type": "stream",
     "text": [
      "Training folds:  80%|████████  | 4/5 [00:03<00:00,  1.30it/s]"
     ]
    },
    {
     "name": "stdout",
     "output_type": "stream",
     "text": [
      "Fold 4: Training QWK = 0.7797, Validation QWK: 0.3699\n"
     ]
    },
    {
     "name": "stderr",
     "output_type": "stream",
     "text": [
      "Training folds: 100%|██████████| 5/5 [00:03<00:00,  1.30it/s]"
     ]
    },
    {
     "name": "stdout",
     "output_type": "stream",
     "text": [
      "Fold 5: Training QWK = 0.7991, Validation QWK: 0.3237\n",
      "Mean training QWK = 0.8040\n",
      "Mean validation QWK = 0.3363\n"
     ]
    },
    {
     "name": "stderr",
     "output_type": "stream",
     "text": [
      "\n"
     ]
    }
   ],
   "source": [
    "params_lgb = {\n",
    "    'drop_rate': 0.25,\n",
    "    'learning_rate': 0.1,\n",
    "    'max_depth': 5,\n",
    "    'n_estimators': 100,\n",
    "    'verbose': -1\n",
    "}\n",
    "params_xgb = {\n",
    "    'alpha': 1,\n",
    "    'eta': 0.01,\n",
    "    'gamma': 0.05,\n",
    "    'lambda': 1,\n",
    "    'max_depth': 10,\n",
    "    'n_estimators': 50,\n",
    "    'subsample': 0.75\n",
    "}\n",
    "\n",
    "lgb_clf = LGBMClassifier(**params_lgb)\n",
    "xgb_clf = XGBClassifier(**params_xgb)\n",
    "\n",
    "voting_clf = VotingClassifier(\n",
    "    estimators=[\n",
    "        ('LightGBM', lgb_clf),\n",
    "        ('XGBoost', xgb_clf)\n",
    "    ],\n",
    "    weights=[0.25, 0.75]\n",
    ")\n",
    "\n",
    "train_scores, val_scores, preds = train_model(voting_clf, X_train, X_test, y)"
   ]
  },
  {
   "cell_type": "code",
   "execution_count": 73,
   "metadata": {},
   "outputs": [
    {
     "data": {
      "image/png": "[encoded data removed]",
      "text/plain": [
       "<Figure size 640x480 with 1 Axes>"
      ]
     },
     "metadata": {},
     "output_type": "display_data"
    }
   ],
   "source": [
    "folds = range(1, 6)\n",
    "\n",
    "plt.scatter(folds, train_scores, c='b', edgecolors='k')\n",
    "plt.scatter(folds, val_scores, c='r', edgecolors='k')\n",
    "plt.xlabel('k-folds', fontsize=15)\n",
    "plt.ylabel('QWK scores', fontsize=15)\n",
    "plt.show()"
   ]
  },
  {
   "cell_type": "code",
   "execution_count": 88,
   "metadata": {},
   "outputs": [],
   "source": [
    "val_score_max = max(val_scores)\n",
    "idx_max = val_scores.index(val_score_max)\n",
    "\n",
    "y_out = preds[:, idx_max]\n",
    "output = pd.DataFrame(\n",
    "    {\n",
    "        'id': X_test.index.tolist(),\n",
    "        'sii': y_out  \n",
    "    }\n",
    ")"
   ]
  },
  {
   "cell_type": "code",
   "execution_count": 90,
   "metadata": {},
   "outputs": [],
   "source": [
    "output.to_csv('submission.csv', index=False)"
   ]
  },
  {
   "cell_type": "code",
   "execution_count": null,
   "metadata": {},
   "outputs": [],
   "source": []
  }
 ],
 "metadata": {
  "kernelspec": {
   "display_name": "Python 3 (ipykernel)",
   "language": "python",
   "name": "python3"
  },
  "language_info": {
   "codemirror_mode": {
    "name": "ipython",
    "version": 3
   },
   "file_extension": ".py",
   "mimetype": "text/x-python",
   "name": "python",
   "nbconvert_exporter": "python",
   "pygments_lexer": "ipython3",
   "version": "3.11.8"
  }
 },
 "nbformat": 4,
 "nbformat_minor": 4
}
